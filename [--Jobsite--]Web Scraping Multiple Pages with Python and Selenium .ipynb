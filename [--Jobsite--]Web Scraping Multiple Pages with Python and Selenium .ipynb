{
 "cells": [
  {
   "cell_type": "code",
   "execution_count": 20,
   "id": "60d9cb6a",
   "metadata": {},
   "outputs": [],
   "source": [
    "import pandas as pd\n",
    "from selenium import webdriver\n",
    "from selenium.webdriver.common.keys import Keys\n",
    "from selenium.webdriver.support import expected_conditions as EC\n",
    "from selenium.webdriver.common.by import By\n",
    "from selenium.webdriver.chrome.service import Service\n",
    "from selenium.webdriver.support.wait import WebDriverWait\n",
    "from selenium.webdriver.support.select import Select\n",
    "from webdriver_manager.chrome import ChromeDriverManager\n",
    "import time\n",
    "import os"
   ]
  },
  {
   "cell_type": "code",
   "execution_count": 21,
   "id": "a7db571c",
   "metadata": {},
   "outputs": [],
   "source": [
    "s = Service(r\"C:/webdrivers/chromedriver.exe\")\n",
    "driver = webdriver.Chrome(service=s)\n",
    "driver.get('https://www.jobsite.co.uk/')"
   ]
  },
  {
   "cell_type": "code",
   "execution_count": 22,
   "id": "0b8fb60d",
   "metadata": {},
   "outputs": [],
   "source": [
    "cookies = driver.find_element('xpath','//div[@id=\"ccmgt_explicit_preferences\"]')\n",
    "try:\n",
    "    cookies.click()\n",
    "    accept_cookies = driver.find_element('xpath','//div[@id=\"ccmgt_preferences_accept\"]')\n",
    "    accept_cookies.click()\n",
    "except:\n",
    "    pass"
   ]
  },
  {
   "cell_type": "code",
   "execution_count": 23,
   "id": "40fd0cde",
   "metadata": {},
   "outputs": [],
   "source": [
    "job_title=driver.find_element('xpath','//input[@class=\"sbr-1glya7s\"]')\n",
    "job_title.click()\n",
    "job_title.send_keys('Software Enginner')\n",
    "\n",
    "job_location = driver.find_element('xpath','//input[@class=\"sbr-7b8gc0\"]')\n",
    "job_location.click()\n",
    "job_location.send_keys('Manchester')\n",
    "\n"
   ]
  },
  {
   "cell_type": "code",
   "execution_count": 24,
   "id": "a494b399",
   "metadata": {},
   "outputs": [],
   "source": [
    "radius= driver.find_element('xpath','//span[@class=\"sbr-qmudqb\"]')\n",
    "radius.click()\n",
    "x = driver.find_element('xpath','(//button[@class=\"sbr-8byl7m\"])[4]')\n",
    "x.click()"
   ]
  },
  {
   "cell_type": "code",
   "execution_count": 25,
   "id": "0ec099dc",
   "metadata": {},
   "outputs": [],
   "source": [
    "search = driver.find_element('xpath','(//span[@class=\"sbr-kyg8or\"])[3]')\n",
    "search.click()"
   ]
  },
  {
   "cell_type": "code",
   "execution_count": 53,
   "id": "ec716310",
   "metadata": {},
   "outputs": [],
   "source": [
    "with open('job_sraping.csv','w') as file:\n",
    "    file.write(\"Jbb_title; Location; Salary; Job_posted; Job_description \\n\")"
   ]
  },
  {
   "cell_type": "code",
   "execution_count": 54,
   "id": "a773e1f9",
   "metadata": {},
   "outputs": [],
   "source": [
    "tilte = driver.find_elements('xpath','//h2[@class=\"res-1tassqi\"]')\n",
    "location = driver.find_elements('xpath','//div[@class=\"res-qchjmw\"]')\n",
    "salary = driver.find_elements('xpath','//*[@class=\"res-lgmafx\"]')\n",
    "job_posted =  driver.find_elements('xpath','//*[@class=\"res-20aukw\"]')\n",
    "job_details = driver.find_elements('xpath','//*[@class=\"res-1d1eotm\"]')\n",
    "salary.pop(0)\n",
    "salary.pop(0)\n",
    "\n",
    "with open('job_sraping.csv','a') as file:\n",
    "        for i in range(len(tilte)):\n",
    "            file.write(tilte[i].text+\";\"+location[i].text+\";\"+salary[i].text+\";\"+job_posted[i].text+\";\"+job_details[i].text+\"\\n\")       \n",
    "        #pagination\n",
    "#         next=driver.find_element_by_xpath('//a[@aria-label=\"Next\"]')\n",
    "#         next.click()\n",
    "#     file.close()\n",
    "# driver.close()\n",
    "        "
   ]
  },
  {
   "cell_type": "code",
   "execution_count": null,
   "id": "76a92ae6",
   "metadata": {},
   "outputs": [],
   "source": []
  },
  {
   "cell_type": "code",
   "execution_count": null,
   "id": "1606b7c6",
   "metadata": {},
   "outputs": [],
   "source": []
  }
 ],
 "metadata": {
  "kernelspec": {
   "display_name": "Python 3",
   "language": "python",
   "name": "python3"
  },
  "language_info": {
   "codemirror_mode": {
    "name": "ipython",
    "version": 3
   },
   "file_extension": ".py",
   "mimetype": "text/x-python",
   "name": "python",
   "nbconvert_exporter": "python",
   "pygments_lexer": "ipython3",
   "version": "3.8.8"
  },
  "varInspector": {
   "cols": {
    "lenName": 16,
    "lenType": 16,
    "lenVar": 40
   },
   "kernels_config": {
    "python": {
     "delete_cmd_postfix": "",
     "delete_cmd_prefix": "del ",
     "library": "var_list.py",
     "varRefreshCmd": "print(var_dic_list())"
    },
    "r": {
     "delete_cmd_postfix": ") ",
     "delete_cmd_prefix": "rm(",
     "library": "var_list.r",
     "varRefreshCmd": "cat(var_dic_list()) "
    }
   },
   "types_to_exclude": [
    "module",
    "function",
    "builtin_function_or_method",
    "instance",
    "_Feature"
   ],
   "window_display": false
  }
 },
 "nbformat": 4,
 "nbformat_minor": 5
}
